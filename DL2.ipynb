{
 "cells": [
  {
   "cell_type": "code",
   "execution_count": 1,
   "metadata": {},
   "outputs": [],
   "source": [
    "import numpy as np\n",
    "from tensorflow.keras.datasets import imdb\n",
    "from tensorflow.keras.preprocessing.sequence import pad_sequences\n",
    "from tensorflow.keras import models, layers\n",
    "import random"
   ]
  },
  {
   "cell_type": "code",
   "execution_count": 3,
   "metadata": {},
   "outputs": [],
   "source": [
    "(X_train, y_train), (X_test, y_test) = imdb.load_data(num_words=10000)\n",
    "\n",
    "X_train = pad_sequences(X_train, maxlen=200)\n",
    "X_test = pad_sequences(X_test, maxlen=200)\n",
    "\n",
    "X_train = np.array(X_train)\n",
    "y_train = np.array(y_train)\n",
    "X_test = np.array(X_test)\n",
    "y_test = np.array(y_test)"
   ]
  },
  {
   "cell_type": "code",
   "execution_count": 4,
   "metadata": {},
   "outputs": [],
   "source": [
    "def build_model():\n",
    "    model = models.Sequential()\n",
    "    model.add(layers.Embedding(input_dim=10000,output_dim=128))\n",
    "    model.add(layers.LSTM(64, dropout=0.3, recurrent_dropout=0.3))\n",
    "    model.add(layers.Dense(1, activation='sigmoid'))\n",
    "    model.compile(optimizer='adam', loss='binary_crossentropy', metrics=['accuracy'])\n",
    "    return model\n",
    "\n",
    "model = build_model()"
   ]
  },
  {
   "cell_type": "code",
   "execution_count": 5,
   "metadata": {},
   "outputs": [
    {
     "name": "stdout",
     "output_type": "stream",
     "text": [
      "Epoch 1/10\n",
      "\u001b[1m625/625\u001b[0m \u001b[32m━━━━━━━━━━━━━━━━━━━━\u001b[0m\u001b[37m\u001b[0m \u001b[1m18s\u001b[0m 27ms/step - accuracy: 0.6930 - loss: 0.5670 - val_accuracy: 0.7090 - val_loss: 0.5511\n",
      "Epoch 2/10\n",
      "\u001b[1m625/625\u001b[0m \u001b[32m━━━━━━━━━━━━━━━━━━━━\u001b[0m\u001b[37m\u001b[0m \u001b[1m17s\u001b[0m 27ms/step - accuracy: 0.8215 - loss: 0.4063 - val_accuracy: 0.8178 - val_loss: 0.4204\n",
      "Epoch 3/10\n",
      "\u001b[1m625/625\u001b[0m \u001b[32m━━━━━━━━━━━━━━━━━━━━\u001b[0m\u001b[37m\u001b[0m \u001b[1m17s\u001b[0m 27ms/step - accuracy: 0.8751 - loss: 0.3088 - val_accuracy: 0.7426 - val_loss: 0.5083\n",
      "Epoch 4/10\n",
      "\u001b[1m625/625\u001b[0m \u001b[32m━━━━━━━━━━━━━━━━━━━━\u001b[0m\u001b[37m\u001b[0m \u001b[1m17s\u001b[0m 27ms/step - accuracy: 0.8639 - loss: 0.3223 - val_accuracy: 0.8492 - val_loss: 0.3940\n",
      "Epoch 5/10\n",
      "\u001b[1m625/625\u001b[0m \u001b[32m━━━━━━━━━━━━━━━━━━━━\u001b[0m\u001b[37m\u001b[0m \u001b[1m17s\u001b[0m 27ms/step - accuracy: 0.9063 - loss: 0.2417 - val_accuracy: 0.8280 - val_loss: 0.4121\n",
      "Epoch 6/10\n",
      "\u001b[1m625/625\u001b[0m \u001b[32m━━━━━━━━━━━━━━━━━━━━\u001b[0m\u001b[37m\u001b[0m \u001b[1m17s\u001b[0m 27ms/step - accuracy: 0.9166 - loss: 0.2160 - val_accuracy: 0.8458 - val_loss: 0.4199\n",
      "Epoch 7/10\n",
      "\u001b[1m625/625\u001b[0m \u001b[32m━━━━━━━━━━━━━━━━━━━━\u001b[0m\u001b[37m\u001b[0m \u001b[1m17s\u001b[0m 27ms/step - accuracy: 0.9298 - loss: 0.1832 - val_accuracy: 0.8398 - val_loss: 0.4238\n",
      "Epoch 8/10\n",
      "\u001b[1m625/625\u001b[0m \u001b[32m━━━━━━━━━━━━━━━━━━━━\u001b[0m\u001b[37m\u001b[0m \u001b[1m17s\u001b[0m 27ms/step - accuracy: 0.9455 - loss: 0.1522 - val_accuracy: 0.8338 - val_loss: 0.4839\n",
      "Epoch 9/10\n",
      "\u001b[1m625/625\u001b[0m \u001b[32m━━━━━━━━━━━━━━━━━━━━\u001b[0m\u001b[37m\u001b[0m \u001b[1m17s\u001b[0m 27ms/step - accuracy: 0.9595 - loss: 0.1179 - val_accuracy: 0.8190 - val_loss: 0.5136\n",
      "Epoch 10/10\n",
      "\u001b[1m625/625\u001b[0m \u001b[32m━━━━━━━━━━━━━━━━━━━━\u001b[0m\u001b[37m\u001b[0m \u001b[1m17s\u001b[0m 27ms/step - accuracy: 0.9659 - loss: 0.1036 - val_accuracy: 0.8404 - val_loss: 0.5397\n"
     ]
    },
    {
     "data": {
      "text/plain": [
       "<keras.src.callbacks.history.History at 0x1ccbadf8500>"
      ]
     },
     "execution_count": 5,
     "metadata": {},
     "output_type": "execute_result"
    }
   ],
   "source": [
    "model.fit(X_train, y_train, epochs=10, batch_size=32, validation_split=0.2)"
   ]
  },
  {
   "cell_type": "code",
   "execution_count": 6,
   "metadata": {},
   "outputs": [
    {
     "name": "stdout",
     "output_type": "stream",
     "text": [
      "\u001b[1m782/782\u001b[0m \u001b[32m━━━━━━━━━━━━━━━━━━━━\u001b[0m\u001b[37m\u001b[0m \u001b[1m7s\u001b[0m 9ms/step - accuracy: 0.8361 - loss: 0.5509\n",
      "Testing Accuracy: 83.79%\n"
     ]
    }
   ],
   "source": [
    "loss, accuracy = model.evaluate(X_test, y_test)\n",
    "print(f\"Testing Accuracy: {accuracy * 100:.2f}%\")"
   ]
  },
  {
   "cell_type": "code",
   "execution_count": 9,
   "metadata": {},
   "outputs": [
    {
     "name": "stdout",
     "output_type": "stream",
     "text": [
      "\u001b[1m1/1\u001b[0m \u001b[32m━━━━━━━━━━━━━━━━━━━━\u001b[0m\u001b[37m\u001b[0m \u001b[1m0s\u001b[0m 110ms/step\n",
      "Review: \n",
      "\"? ? ? ? ? ? ? ? ? ? ? ? ? ? ? ? ? ? ? ? ? ? ? ? ? ? ? ? ? while the twilight zone was a wonderful show it was also very uneven with some great episodes some lousy ones and many in between don't believe the die hard fans there were some ? and this was definitely one of them br br in a plot that is obviously meant to be an attack on ? castro a near ? peter falk in lots of makeup and a beard ? a magic mirror that allows him to realize who all his enemies are so he can them while i do believe that castro is a thug and dictator and ? of thousands of ? and political prisoners will ? to this it's amazing how this sort of preachy episode actually makes audiences laugh at the american efforts to ? the creep and actually makes castro seem okay think about it ? and company wanted to hurt castro but instead only seemed to be obvious preachy and silly in the process br br it's indeed bad almost laughably bad when seen today\"\n",
      "Predicted Sentiment: Negative\n",
      "Actual Sentiment: Negative\n",
      "\n",
      "\u001b[1m1/1\u001b[0m \u001b[32m━━━━━━━━━━━━━━━━━━━━\u001b[0m\u001b[37m\u001b[0m \u001b[1m0s\u001b[0m 19ms/step\n",
      "Review: \n",
      "\"out of the ? the murder of roger ? taken at the ? and cards on the table are the only ones that really did disappoint everything else ? from good to outstanding even the recent ? with death despite the many ? from the book which i admit isn't a favourite was surprisingly good thanks to the marvellous production values stellar ensemble performances and outstanding music score back to after the funeral the production values are fantastic it has a really cinematic feel to it and the stunning photography and splendid scenery and costumes made it a visual feast for the eyes the music was very stirring and even haunting and the entire cast give wonderful performances david ? is impeccable as always as ? and ? james and anna ? marshall are just as terrific but for me the standout was monica ? as mrs ? she is up there with donald ? and polly walker as the best supporting actor actress in a ? episode that's how good her performance was all in all a must see one of the best ? episodes by far and one of the more faithful ones too 10 10 ? cox\"\n",
      "Predicted Sentiment: Negative\n",
      "Actual Sentiment: Positive\n",
      "\n",
      "\u001b[1m1/1\u001b[0m \u001b[32m━━━━━━━━━━━━━━━━━━━━\u001b[0m\u001b[37m\u001b[0m \u001b[1m0s\u001b[0m 18ms/step\n",
      "Review: \n",
      "\"? ? ? ? ? ? ? ? ? ? ? ? ? ? ? ? ? ? ? ? ? ? ? ? ? ? ? ? ? ? ? ? ? ? ? ? ? ? ? ? ? ? ? ? ? ? ? ? ? ? ? ? ? ? ? ? ? ? ? ? ? ? ? ? ? ? ? ? ? ? ? i just saw this movie at the ? film festival and i have to say that i thought it was amazing the combination of humor and sincerity really made the movie worthwhile the movie was about a ? year old boy whose mother and father are very religious the ? year old ben decides to work for a retired actress who teaches him about girls and driving and life it is very comical and touching i honestly have to say that it is now one of my favorite movies i recommend this movie to anyone and everyone if you didn't catch one of the ? at the film festival it's supposed to come out in theaters later in the year please go see it it is a great film\"\n",
      "Predicted Sentiment: Positive\n",
      "Actual Sentiment: Positive\n",
      "\n",
      "\u001b[1m1/1\u001b[0m \u001b[32m━━━━━━━━━━━━━━━━━━━━\u001b[0m\u001b[37m\u001b[0m \u001b[1m0s\u001b[0m 15ms/step\n",
      "Review: \n",
      "\"? ? ? ? ? ? ? ? ? ? ? ? ? ? ? ? ? ? ? ? ? ? ? ? ? ? ? ? ? ? ? ? ? ? ? ? ? ? ? ? ? ? ? ? ? ? ? ? ? ? ? ? ? ? ? ? ? ? ? ? ? to solve a challenging problem you need to start by asking the right questions without these even the biggest library of information is useless this movie does just that where other movies guide your thinking along a story board this film pulls at your emotions and your understanding of justice and what's ? these questions will ? at you throughout challenging your ? as the characters develop this movie is important it's relevant and a must see for anybody who stays informed of current affairs the fact it's highly entertaining and includes a slew of movie stars only ? the execution my advice watch it with a serious crowd or better yet by yourself not unlike how you'd read an ? from your favorite news magazine in this case there is one difference the answers will be your own\"\n",
      "Predicted Sentiment: Negative\n",
      "Actual Sentiment: Positive\n",
      "\n",
      "\u001b[1m1/1\u001b[0m \u001b[32m━━━━━━━━━━━━━━━━━━━━\u001b[0m\u001b[37m\u001b[0m \u001b[1m0s\u001b[0m 16ms/step\n",
      "Review: \n",
      "\"? ? ? ? ? ? ? ? ? ? ? ? ? ? ? ? ? ? ? i remember seeing this at my local blockbuster and picked it up cause i was curious i liked movies about ? creatures i like movies about werewolves vampires zombies etc this is based on half ? a half human half ? creature that ? on the people of africa br br the movie is horrendous the actors are terrible there is no script whatsoever it's all improvised the whole thing is filmed at night because they say that is the only time you ever see it it's obvious bull ? they film at night to make it scary but they have failed to scare me after the first person was killed i put this back in the case and took it back to blockbuster one of the most boring movies i've ever seen br br now you are probably saying i have no right to review a movie if i haven't finished it well this is one of the films that didn't deserve to be watched all the way through br br 1 star out of 10 this is really bad\"\n",
      "Predicted Sentiment: Negative\n",
      "Actual Sentiment: Negative\n",
      "\n",
      "\u001b[1m1/1\u001b[0m \u001b[32m━━━━━━━━━━━━━━━━━━━━\u001b[0m\u001b[37m\u001b[0m \u001b[1m0s\u001b[0m 15ms/step\n",
      "Review: \n",
      "\"are pleasing to the eye the story must ? in a love scene in the middle of a witch hunt what gives hello got still got mood ah then again the ? is a pretty cheap animated ? which has a built in ? of popping up every now and then in various fashion just to ? screams from ? audiences the characters also break every ? rule in the do ? in horror ? so you know and expect their just ? br br can you possibly enjoy this movie sure you can just ensure that you're watching it in a full house should be easy since local folks are ? for anything remotely horrific and laugh at those who are so ? they scream at every frightening scene it's pretty fun and adds to the atmosphere besides what's going on the screen surround sound doesn't even come close br br think of it as watching an episode of scooby doo without the ? and it's a pity that the gory moments in the movie had to be ? for a pg rating those could possibly have been the best bits now left rotting on the ? floor board\"\n",
      "Predicted Sentiment: Negative\n",
      "Actual Sentiment: Negative\n",
      "\n",
      "\u001b[1m1/1\u001b[0m \u001b[32m━━━━━━━━━━━━━━━━━━━━\u001b[0m\u001b[37m\u001b[0m \u001b[1m0s\u001b[0m 24ms/step\n",
      "Review: \n",
      "\"? ? ? ? ? ? ? ? ? ? ? ? ? ? ? ? ? ? ? ? ? ? ? ? ? ? ? ? ? ? ? ? ? ? ? ? ? ? ? ? ? ? ? ? ? ? ? ? ? ? ? ? ? ? ? ? h o t s is one of those sexy 70's drive in movies that features many of ? famous ? from the 70's like sexy tall blonde susan pamela jean ? lisa london ? ? and the late sexy angela ? and would you believe a post ? family danny ? its the ? girls ? the good girls the ? girls led by susan there's a couple of comedy relief gangsters a runaway bear a trained seal misplaced ? etc etc think animal house meets ? h o t s is an enjoyable little comedy with t a no complaints here i actually think that susan was one of ? ? ? from the 70's she did do a few more movies including if you like fun drive in movies you will no doubt enjoy h o t s 7 out of 10\"\n",
      "Predicted Sentiment: Negative\n",
      "Actual Sentiment: Positive\n",
      "\n",
      "\u001b[1m1/1\u001b[0m \u001b[32m━━━━━━━━━━━━━━━━━━━━\u001b[0m\u001b[37m\u001b[0m \u001b[1m0s\u001b[0m 16ms/step\n",
      "Review: \n",
      "\"? ? ? ? ? ? ? ? ? ? ? ? ? ? ? ? ? ? ? ? ? ? ? ? ? ? ? ? ? ? ? ? ? ? ? ? ? ? ? ? ? ? ? ? ? ? ? ? ? ? ? ? ? ? ? ? ? ? ? ? ? ? ? ? ? ? ? ? ? ? ? ? ? ? ? ? ? ? ? ? ? ? ? ? ? ? ? ? ? ? ? ? ? ? ? ? ? ? ? ? ? ? ? ? ? ? ? ? ? ? ? ? ? ? ? ? ? ? ? ? ? ? ? ? ? ? ? ? ? ? ? ? ? ? ? ? ? ? ? ? this was a great movie and safe for the entire family which one doesn't see much of anymore my wife and i and 15 year old son loved it even though you had an ? of how it would end it continued to be a fun journey and the final ending surprised us there should be more movies like this\"\n",
      "Predicted Sentiment: Negative\n",
      "Actual Sentiment: Positive\n",
      "\n",
      "\u001b[1m1/1\u001b[0m \u001b[32m━━━━━━━━━━━━━━━━━━━━\u001b[0m\u001b[37m\u001b[0m \u001b[1m0s\u001b[0m 15ms/step\n",
      "Review: \n",
      "\"? ? ? ? ? ? ? ? ? ? ? ? ? ? ? ? ? ? ? ? ? ? ? ? ? ? ? ? ? ? ? ? ? ? ? ? ? ? ? ? ? ? ? ? ? ? ? ? ? ? ? ? ? ? ? ? ? will some company please make a good dvd of this film aside from being a wonderful film about relationships and friendships four friends is the only film i've ever seen and i have literally spent years of my life watching films that captures the essence of the 60s experience and i was there the ? the hope the freedom the confusion the ? and ultimately its upbeat but bittersweet denouement and all of this is accomplished without being a story about any of the numerous ? of that era although many are just touched upon as part of the ? but the story is primarily about the characters and their friendship over about 10 15 years and that those survived and ? despite the ? of that ? decade absolutely a joy and must see film even if one's not an old hippie\"\n",
      "Predicted Sentiment: Negative\n",
      "Actual Sentiment: Positive\n",
      "\n",
      "\u001b[1m1/1\u001b[0m \u001b[32m━━━━━━━━━━━━━━━━━━━━\u001b[0m\u001b[37m\u001b[0m \u001b[1m0s\u001b[0m 17ms/step\n",
      "Review: \n",
      "\"like the two addressing each other as sand in the eyes share an enduring bond the english speaking captures a special place in the house but soon she ? her real face ? good natured gets closer with and ? her sexual desires br br when she is thrown out by the ? mother of seeks ? from a reluctant the remaining part of the story shows how the lives of these four characters and ? in an ? ? walks through the manipulative rebellious lady still gaining the viewer's a ballet ? ? the other lead ? ? and ? equally brilliant in ? their characters br br while ? penned this story at the turn of the 20th century the very idea of widow marriage was a taboo even among the upper class ? the ? freedom movement in parallel the author ? the importance of individual freedom from the ? life kudos to the art director who gave life to the early 20th century ? and applause to the cinematographer for capturing those sets with ? br br this play ' by ? has been ? converted to the screen by the filmmaker without ? its originality\"\n",
      "Predicted Sentiment: Negative\n",
      "Actual Sentiment: Positive\n",
      "\n"
     ]
    }
   ],
   "source": [
    "word_index = imdb.get_word_index()\n",
    "reverse_word_index = {value:key for (key,value) in word_index.items()}\n",
    "\n",
    "def decode_review(encoded_review):\n",
    "    return ' '.join([reverse_word_index.get(i-3,'?') for i in encoded_review])\n",
    "\n",
    "sample_indices = random.sample(range(len(X_test)),10)\n",
    "\n",
    "for index in sample_indices:\n",
    "    review = decode_review(X_test[index])\n",
    "    preprocessed_review = pad_sequences([[word_index.get(word,0) for word in review.split()]], maxlen=200)\n",
    "    prediction = model.predict(preprocessed_review)[0][0]\n",
    "    actual_sentiment = y_test[index]\n",
    "\n",
    "    print(f'Review: \\n\\\"{review}\\\"\\n'\n",
    "          f'Predicted Sentiment: {\"Positive\" if prediction > 0.5 else \"Negative\"}\\n'\n",
    "          f'Actual Sentiment: {\"Positive\" if actual_sentiment==1 else \"Negative\"}\\n'\n",
    "          )"
   ]
  }
 ],
 "metadata": {
  "kernelspec": {
   "display_name": "Python 3",
   "language": "python",
   "name": "python3"
  },
  "language_info": {
   "codemirror_mode": {
    "name": "ipython",
    "version": 3
   },
   "file_extension": ".py",
   "mimetype": "text/x-python",
   "name": "python",
   "nbconvert_exporter": "python",
   "pygments_lexer": "ipython3",
   "version": "3.12.7"
  }
 },
 "nbformat": 4,
 "nbformat_minor": 2
}
